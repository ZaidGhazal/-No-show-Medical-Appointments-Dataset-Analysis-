{
  "nbformat": 4,
  "nbformat_minor": 0,
  "metadata": {
    "kernelspec": {
      "display_name": "Python 3",
      "language": "python",
      "name": "python3"
    },
    "language_info": {
      "codemirror_mode": {
        "name": "ipython",
        "version": 3
      },
      "file_extension": ".py",
      "mimetype": "text/x-python",
      "name": "python",
      "nbconvert_exporter": "python",
      "pygments_lexer": "ipython3",
      "version": "3.7.6"
    },
    "colab": {
      "name": "Investigate_Dataset.ipynb",
      "provenance": [],
      "collapsed_sections": []
    }
  },
  "cells": [
    {
      "cell_type": "markdown",
      "metadata": {
        "id": "zudyG_l1RF-S",
        "colab_type": "text"
      },
      "source": [
        "\n",
        "# Project: The \"No-show appointments\" dataset investigation\n",
        "## Table of Contents\n",
        "<ul>\n",
        "<li><a href=\"#intro\">Introduction</a></li>\n",
        "<li><a href=\"#wrangling\">Data Wrangling</a></li>\n",
        "<li><a href=\"#eda\">Exploratory Data Analysis</a></li>\n",
        "<li><a href=\"#conclusions\">Conclusions</a></li>\n",
        "</ul>"
      ]
    },
    {
      "cell_type": "markdown",
      "metadata": {
        "id": "OC4tonL4RF-T",
        "colab_type": "text"
      },
      "source": [
        "<a id='intro'></a>\n",
        "## Introduction\n",
        "\n",
        "This notebook presents the investigation process on the \"No-show appointments\" dataset. briefly, the dataset contains 110527 confirmed medical appointments in Brazil and it shows some information about each patient like (age, diabetes status, Alcoholism status, gender, appointment day, and so on...). In addition, it tells us whether the patient missed the appointment or not. Here, I used python to analyze the dataset with pandas, matplotlib and numpy packages. \n",
        "\n",
        "There are several questions I tried to answer during the analysis:\n",
        "  - The proportion of missed/attended appointments over the total appointments number\n",
        "  - How did having the scholarship (Brasilian welfare program) affect the attendance ratio?\n",
        "  - How did receiving reminder SMS affect the attendance ratio? \n",
        "  - How does age affect the risk of having diabetes?\n",
        "  - For the neighbourhoods with 100 or more appointments registered, what is/are the neighborhood(s) with the highest/lowest appointment missing proportion? \n",
        "  "
      ]
    },
    {
      "cell_type": "code",
      "metadata": {
        "id": "b9CQk4CtRF-T",
        "colab_type": "code",
        "colab": {
          "base_uri": "https://localhost:8080/",
          "height": 70
        },
        "outputId": "433504f0-a77d-41cb-bda3-c8787e0ac927"
      },
      "source": [
        "import pandas as pd\n",
        "import matplotlib.pyplot as plt\n",
        "import numpy as np\n",
        "from scipy.stats import norm\n",
        "import seaborn as sn\n"
      ],
      "execution_count": 1,
      "outputs": [
        {
          "output_type": "stream",
          "text": [
            "/usr/local/lib/python3.6/dist-packages/statsmodels/tools/_testing.py:19: FutureWarning: pandas.util.testing is deprecated. Use the functions in the public API at pandas.testing instead.\n",
            "  import pandas.util.testing as tm\n"
          ],
          "name": "stderr"
        }
      ]
    },
    {
      "cell_type": "markdown",
      "metadata": {
        "id": "JXn15eNkRF-X",
        "colab_type": "text"
      },
      "source": [
        "<a id='wrangling'></a>\n",
        "## Data Wrangling\n",
        "\n",
        "\n",
        "### Loading data "
      ]
    },
    {
      "cell_type": "code",
      "metadata": {
        "id": "FFXnW-9bRF-X",
        "colab_type": "code",
        "colab": {
          "base_uri": "https://localhost:8080/",
          "height": 296
        },
        "outputId": "e55825b8-ef4a-4965-ba96-010a09631874"
      },
      "source": [
        "df = pd.read_csv('appointments.csv') # the file name may change, but its as same as the original one\n",
        "df.head()"
      ],
      "execution_count": 2,
      "outputs": [
        {
          "output_type": "execute_result",
          "data": {
            "text/html": [
              "<div>\n",
              "<style scoped>\n",
              "    .dataframe tbody tr th:only-of-type {\n",
              "        vertical-align: middle;\n",
              "    }\n",
              "\n",
              "    .dataframe tbody tr th {\n",
              "        vertical-align: top;\n",
              "    }\n",
              "\n",
              "    .dataframe thead th {\n",
              "        text-align: right;\n",
              "    }\n",
              "</style>\n",
              "<table border=\"1\" class=\"dataframe\">\n",
              "  <thead>\n",
              "    <tr style=\"text-align: right;\">\n",
              "      <th></th>\n",
              "      <th>PatientId</th>\n",
              "      <th>AppointmentID</th>\n",
              "      <th>Gender</th>\n",
              "      <th>ScheduledDay</th>\n",
              "      <th>AppointmentDay</th>\n",
              "      <th>Age</th>\n",
              "      <th>Neighbourhood</th>\n",
              "      <th>Scholarship</th>\n",
              "      <th>Hipertension</th>\n",
              "      <th>Diabetes</th>\n",
              "      <th>Alcoholism</th>\n",
              "      <th>Handcap</th>\n",
              "      <th>SMS_received</th>\n",
              "      <th>No-show</th>\n",
              "    </tr>\n",
              "  </thead>\n",
              "  <tbody>\n",
              "    <tr>\n",
              "      <th>0</th>\n",
              "      <td>2.987250e+13</td>\n",
              "      <td>5642903</td>\n",
              "      <td>F</td>\n",
              "      <td>2016-04-29T18:38:08Z</td>\n",
              "      <td>2016-04-29T00:00:00Z</td>\n",
              "      <td>62</td>\n",
              "      <td>JARDIM DA PENHA</td>\n",
              "      <td>0</td>\n",
              "      <td>1</td>\n",
              "      <td>0</td>\n",
              "      <td>0</td>\n",
              "      <td>0</td>\n",
              "      <td>0</td>\n",
              "      <td>No</td>\n",
              "    </tr>\n",
              "    <tr>\n",
              "      <th>1</th>\n",
              "      <td>5.589978e+14</td>\n",
              "      <td>5642503</td>\n",
              "      <td>M</td>\n",
              "      <td>2016-04-29T16:08:27Z</td>\n",
              "      <td>2016-04-29T00:00:00Z</td>\n",
              "      <td>56</td>\n",
              "      <td>JARDIM DA PENHA</td>\n",
              "      <td>0</td>\n",
              "      <td>0</td>\n",
              "      <td>0</td>\n",
              "      <td>0</td>\n",
              "      <td>0</td>\n",
              "      <td>0</td>\n",
              "      <td>No</td>\n",
              "    </tr>\n",
              "    <tr>\n",
              "      <th>2</th>\n",
              "      <td>4.262962e+12</td>\n",
              "      <td>5642549</td>\n",
              "      <td>F</td>\n",
              "      <td>2016-04-29T16:19:04Z</td>\n",
              "      <td>2016-04-29T00:00:00Z</td>\n",
              "      <td>62</td>\n",
              "      <td>MATA DA PRAIA</td>\n",
              "      <td>0</td>\n",
              "      <td>0</td>\n",
              "      <td>0</td>\n",
              "      <td>0</td>\n",
              "      <td>0</td>\n",
              "      <td>0</td>\n",
              "      <td>No</td>\n",
              "    </tr>\n",
              "    <tr>\n",
              "      <th>3</th>\n",
              "      <td>8.679512e+11</td>\n",
              "      <td>5642828</td>\n",
              "      <td>F</td>\n",
              "      <td>2016-04-29T17:29:31Z</td>\n",
              "      <td>2016-04-29T00:00:00Z</td>\n",
              "      <td>8</td>\n",
              "      <td>PONTAL DE CAMBURI</td>\n",
              "      <td>0</td>\n",
              "      <td>0</td>\n",
              "      <td>0</td>\n",
              "      <td>0</td>\n",
              "      <td>0</td>\n",
              "      <td>0</td>\n",
              "      <td>No</td>\n",
              "    </tr>\n",
              "    <tr>\n",
              "      <th>4</th>\n",
              "      <td>8.841186e+12</td>\n",
              "      <td>5642494</td>\n",
              "      <td>F</td>\n",
              "      <td>2016-04-29T16:07:23Z</td>\n",
              "      <td>2016-04-29T00:00:00Z</td>\n",
              "      <td>56</td>\n",
              "      <td>JARDIM DA PENHA</td>\n",
              "      <td>0</td>\n",
              "      <td>1</td>\n",
              "      <td>1</td>\n",
              "      <td>0</td>\n",
              "      <td>0</td>\n",
              "      <td>0</td>\n",
              "      <td>No</td>\n",
              "    </tr>\n",
              "  </tbody>\n",
              "</table>\n",
              "</div>"
            ],
            "text/plain": [
              "      PatientId  AppointmentID Gender  ... Handcap SMS_received  No-show\n",
              "0  2.987250e+13        5642903      F  ...       0            0       No\n",
              "1  5.589978e+14        5642503      M  ...       0            0       No\n",
              "2  4.262962e+12        5642549      F  ...       0            0       No\n",
              "3  8.679512e+11        5642828      F  ...       0            0       No\n",
              "4  8.841186e+12        5642494      F  ...       0            0       No\n",
              "\n",
              "[5 rows x 14 columns]"
            ]
          },
          "metadata": {
            "tags": []
          },
          "execution_count": 2
        }
      ]
    },
    {
      "cell_type": "markdown",
      "metadata": {
        "id": "sMtokrdJRF-a",
        "colab_type": "text"
      },
      "source": [
        "### Rename the no-show column  "
      ]
    },
    {
      "cell_type": "code",
      "metadata": {
        "id": "M8WVKRtIRF-a",
        "colab_type": "code",
        "colab": {
          "base_uri": "https://localhost:8080/",
          "height": 136
        },
        "outputId": "09c2876c-bf0a-43be-e6e9-1b61eb9e77a5"
      },
      "source": [
        "df.rename(columns={'No-show':'NO_SHOW'},inplace=True)\n",
        "df.head(3)"
      ],
      "execution_count": 3,
      "outputs": [
        {
          "output_type": "execute_result",
          "data": {
            "text/html": [
              "<div>\n",
              "<style scoped>\n",
              "    .dataframe tbody tr th:only-of-type {\n",
              "        vertical-align: middle;\n",
              "    }\n",
              "\n",
              "    .dataframe tbody tr th {\n",
              "        vertical-align: top;\n",
              "    }\n",
              "\n",
              "    .dataframe thead th {\n",
              "        text-align: right;\n",
              "    }\n",
              "</style>\n",
              "<table border=\"1\" class=\"dataframe\">\n",
              "  <thead>\n",
              "    <tr style=\"text-align: right;\">\n",
              "      <th></th>\n",
              "      <th>PatientId</th>\n",
              "      <th>AppointmentID</th>\n",
              "      <th>Gender</th>\n",
              "      <th>ScheduledDay</th>\n",
              "      <th>AppointmentDay</th>\n",
              "      <th>Age</th>\n",
              "      <th>Neighbourhood</th>\n",
              "      <th>Scholarship</th>\n",
              "      <th>Hipertension</th>\n",
              "      <th>Diabetes</th>\n",
              "      <th>Alcoholism</th>\n",
              "      <th>Handcap</th>\n",
              "      <th>SMS_received</th>\n",
              "      <th>NO_SHOW</th>\n",
              "    </tr>\n",
              "  </thead>\n",
              "  <tbody>\n",
              "    <tr>\n",
              "      <th>0</th>\n",
              "      <td>2.987250e+13</td>\n",
              "      <td>5642903</td>\n",
              "      <td>F</td>\n",
              "      <td>2016-04-29T18:38:08Z</td>\n",
              "      <td>2016-04-29T00:00:00Z</td>\n",
              "      <td>62</td>\n",
              "      <td>JARDIM DA PENHA</td>\n",
              "      <td>0</td>\n",
              "      <td>1</td>\n",
              "      <td>0</td>\n",
              "      <td>0</td>\n",
              "      <td>0</td>\n",
              "      <td>0</td>\n",
              "      <td>No</td>\n",
              "    </tr>\n",
              "    <tr>\n",
              "      <th>1</th>\n",
              "      <td>5.589978e+14</td>\n",
              "      <td>5642503</td>\n",
              "      <td>M</td>\n",
              "      <td>2016-04-29T16:08:27Z</td>\n",
              "      <td>2016-04-29T00:00:00Z</td>\n",
              "      <td>56</td>\n",
              "      <td>JARDIM DA PENHA</td>\n",
              "      <td>0</td>\n",
              "      <td>0</td>\n",
              "      <td>0</td>\n",
              "      <td>0</td>\n",
              "      <td>0</td>\n",
              "      <td>0</td>\n",
              "      <td>No</td>\n",
              "    </tr>\n",
              "    <tr>\n",
              "      <th>2</th>\n",
              "      <td>4.262962e+12</td>\n",
              "      <td>5642549</td>\n",
              "      <td>F</td>\n",
              "      <td>2016-04-29T16:19:04Z</td>\n",
              "      <td>2016-04-29T00:00:00Z</td>\n",
              "      <td>62</td>\n",
              "      <td>MATA DA PRAIA</td>\n",
              "      <td>0</td>\n",
              "      <td>0</td>\n",
              "      <td>0</td>\n",
              "      <td>0</td>\n",
              "      <td>0</td>\n",
              "      <td>0</td>\n",
              "      <td>No</td>\n",
              "    </tr>\n",
              "  </tbody>\n",
              "</table>\n",
              "</div>"
            ],
            "text/plain": [
              "      PatientId  AppointmentID Gender  ... Handcap SMS_received  NO_SHOW\n",
              "0  2.987250e+13        5642903      F  ...       0            0       No\n",
              "1  5.589978e+14        5642503      M  ...       0            0       No\n",
              "2  4.262962e+12        5642549      F  ...       0            0       No\n",
              "\n",
              "[3 rows x 14 columns]"
            ]
          },
          "metadata": {
            "tags": []
          },
          "execution_count": 3
        }
      ]
    },
    {
      "cell_type": "markdown",
      "metadata": {
        "id": "WfJkqAFZRF-c",
        "colab_type": "text"
      },
      "source": [
        "### Print quick info about the dataset\n",
        "As shown, no Null values and all columns dtypes are suitable to deal with "
      ]
    },
    {
      "cell_type": "code",
      "metadata": {
        "id": "l_0812YPRF-d",
        "colab_type": "code",
        "colab": {
          "base_uri": "https://localhost:8080/",
          "height": 370
        },
        "outputId": "d6fb93c9-4f95-4cd3-fede-3ed833ca72bf"
      },
      "source": [
        "df.info()\n"
      ],
      "execution_count": 4,
      "outputs": [
        {
          "output_type": "stream",
          "text": [
            "<class 'pandas.core.frame.DataFrame'>\n",
            "RangeIndex: 110527 entries, 0 to 110526\n",
            "Data columns (total 14 columns):\n",
            " #   Column          Non-Null Count   Dtype  \n",
            "---  ------          --------------   -----  \n",
            " 0   PatientId       110527 non-null  float64\n",
            " 1   AppointmentID   110527 non-null  int64  \n",
            " 2   Gender          110527 non-null  object \n",
            " 3   ScheduledDay    110527 non-null  object \n",
            " 4   AppointmentDay  110527 non-null  object \n",
            " 5   Age             110527 non-null  int64  \n",
            " 6   Neighbourhood   110527 non-null  object \n",
            " 7   Scholarship     110527 non-null  int64  \n",
            " 8   Hipertension    110527 non-null  int64  \n",
            " 9   Diabetes        110527 non-null  int64  \n",
            " 10  Alcoholism      110527 non-null  int64  \n",
            " 11  Handcap         110527 non-null  int64  \n",
            " 12  SMS_received    110527 non-null  int64  \n",
            " 13  NO_SHOW         110527 non-null  object \n",
            "dtypes: float64(1), int64(8), object(5)\n",
            "memory usage: 11.8+ MB\n"
          ],
          "name": "stdout"
        }
      ]
    },
    {
      "cell_type": "markdown",
      "metadata": {
        "id": "y04uNG8VRF-g",
        "colab_type": "text"
      },
      "source": [
        "### Check for duplicated appointments"
      ]
    },
    {
      "cell_type": "code",
      "metadata": {
        "id": "oplfZRCWRF-h",
        "colab_type": "code",
        "colab": {
          "base_uri": "https://localhost:8080/",
          "height": 34
        },
        "outputId": "909b80cb-daaf-4988-fac5-520c1dad41c0"
      },
      "source": [
        "print(any(df.duplicated('AppointmentID'))) # No duplicated appointments\n"
      ],
      "execution_count": 5,
      "outputs": [
        {
          "output_type": "stream",
          "text": [
            "False\n"
          ],
          "name": "stdout"
        }
      ]
    },
    {
      "cell_type": "markdown",
      "metadata": {
        "id": "NKAhGT_uRF-k",
        "colab_type": "text"
      },
      "source": [
        "### Print general statistics about the dataset\n",
        "We note that there is/are row(s) with age = -1, which is not realistic "
      ]
    },
    {
      "cell_type": "code",
      "metadata": {
        "id": "CkpUpJycRF-k",
        "colab_type": "code",
        "colab": {
          "base_uri": "https://localhost:8080/",
          "height": 284
        },
        "outputId": "6b7f802c-87ca-4afc-f834-601654de459a"
      },
      "source": [
        "df.describe()"
      ],
      "execution_count": 6,
      "outputs": [
        {
          "output_type": "execute_result",
          "data": {
            "text/html": [
              "<div>\n",
              "<style scoped>\n",
              "    .dataframe tbody tr th:only-of-type {\n",
              "        vertical-align: middle;\n",
              "    }\n",
              "\n",
              "    .dataframe tbody tr th {\n",
              "        vertical-align: top;\n",
              "    }\n",
              "\n",
              "    .dataframe thead th {\n",
              "        text-align: right;\n",
              "    }\n",
              "</style>\n",
              "<table border=\"1\" class=\"dataframe\">\n",
              "  <thead>\n",
              "    <tr style=\"text-align: right;\">\n",
              "      <th></th>\n",
              "      <th>PatientId</th>\n",
              "      <th>AppointmentID</th>\n",
              "      <th>Age</th>\n",
              "      <th>Scholarship</th>\n",
              "      <th>Hipertension</th>\n",
              "      <th>Diabetes</th>\n",
              "      <th>Alcoholism</th>\n",
              "      <th>Handcap</th>\n",
              "      <th>SMS_received</th>\n",
              "    </tr>\n",
              "  </thead>\n",
              "  <tbody>\n",
              "    <tr>\n",
              "      <th>count</th>\n",
              "      <td>1.105270e+05</td>\n",
              "      <td>1.105270e+05</td>\n",
              "      <td>110527.000000</td>\n",
              "      <td>110527.000000</td>\n",
              "      <td>110527.000000</td>\n",
              "      <td>110527.000000</td>\n",
              "      <td>110527.000000</td>\n",
              "      <td>110527.000000</td>\n",
              "      <td>110527.000000</td>\n",
              "    </tr>\n",
              "    <tr>\n",
              "      <th>mean</th>\n",
              "      <td>1.474963e+14</td>\n",
              "      <td>5.675305e+06</td>\n",
              "      <td>37.088874</td>\n",
              "      <td>0.098266</td>\n",
              "      <td>0.197246</td>\n",
              "      <td>0.071865</td>\n",
              "      <td>0.030400</td>\n",
              "      <td>0.022248</td>\n",
              "      <td>0.321026</td>\n",
              "    </tr>\n",
              "    <tr>\n",
              "      <th>std</th>\n",
              "      <td>2.560949e+14</td>\n",
              "      <td>7.129575e+04</td>\n",
              "      <td>23.110205</td>\n",
              "      <td>0.297675</td>\n",
              "      <td>0.397921</td>\n",
              "      <td>0.258265</td>\n",
              "      <td>0.171686</td>\n",
              "      <td>0.161543</td>\n",
              "      <td>0.466873</td>\n",
              "    </tr>\n",
              "    <tr>\n",
              "      <th>min</th>\n",
              "      <td>3.921784e+04</td>\n",
              "      <td>5.030230e+06</td>\n",
              "      <td>-1.000000</td>\n",
              "      <td>0.000000</td>\n",
              "      <td>0.000000</td>\n",
              "      <td>0.000000</td>\n",
              "      <td>0.000000</td>\n",
              "      <td>0.000000</td>\n",
              "      <td>0.000000</td>\n",
              "    </tr>\n",
              "    <tr>\n",
              "      <th>25%</th>\n",
              "      <td>4.172614e+12</td>\n",
              "      <td>5.640286e+06</td>\n",
              "      <td>18.000000</td>\n",
              "      <td>0.000000</td>\n",
              "      <td>0.000000</td>\n",
              "      <td>0.000000</td>\n",
              "      <td>0.000000</td>\n",
              "      <td>0.000000</td>\n",
              "      <td>0.000000</td>\n",
              "    </tr>\n",
              "    <tr>\n",
              "      <th>50%</th>\n",
              "      <td>3.173184e+13</td>\n",
              "      <td>5.680573e+06</td>\n",
              "      <td>37.000000</td>\n",
              "      <td>0.000000</td>\n",
              "      <td>0.000000</td>\n",
              "      <td>0.000000</td>\n",
              "      <td>0.000000</td>\n",
              "      <td>0.000000</td>\n",
              "      <td>0.000000</td>\n",
              "    </tr>\n",
              "    <tr>\n",
              "      <th>75%</th>\n",
              "      <td>9.439172e+13</td>\n",
              "      <td>5.725524e+06</td>\n",
              "      <td>55.000000</td>\n",
              "      <td>0.000000</td>\n",
              "      <td>0.000000</td>\n",
              "      <td>0.000000</td>\n",
              "      <td>0.000000</td>\n",
              "      <td>0.000000</td>\n",
              "      <td>1.000000</td>\n",
              "    </tr>\n",
              "    <tr>\n",
              "      <th>max</th>\n",
              "      <td>9.999816e+14</td>\n",
              "      <td>5.790484e+06</td>\n",
              "      <td>115.000000</td>\n",
              "      <td>1.000000</td>\n",
              "      <td>1.000000</td>\n",
              "      <td>1.000000</td>\n",
              "      <td>1.000000</td>\n",
              "      <td>4.000000</td>\n",
              "      <td>1.000000</td>\n",
              "    </tr>\n",
              "  </tbody>\n",
              "</table>\n",
              "</div>"
            ],
            "text/plain": [
              "          PatientId  AppointmentID  ...        Handcap   SMS_received\n",
              "count  1.105270e+05   1.105270e+05  ...  110527.000000  110527.000000\n",
              "mean   1.474963e+14   5.675305e+06  ...       0.022248       0.321026\n",
              "std    2.560949e+14   7.129575e+04  ...       0.161543       0.466873\n",
              "min    3.921784e+04   5.030230e+06  ...       0.000000       0.000000\n",
              "25%    4.172614e+12   5.640286e+06  ...       0.000000       0.000000\n",
              "50%    3.173184e+13   5.680573e+06  ...       0.000000       0.000000\n",
              "75%    9.439172e+13   5.725524e+06  ...       0.000000       1.000000\n",
              "max    9.999816e+14   5.790484e+06  ...       4.000000       1.000000\n",
              "\n",
              "[8 rows x 9 columns]"
            ]
          },
          "metadata": {
            "tags": []
          },
          "execution_count": 6
        }
      ]
    },
    {
      "cell_type": "markdown",
      "metadata": {
        "id": "2NXCNR8TRF-n",
        "colab_type": "text"
      },
      "source": [
        "### Show how many rows with -1 age value and show the row(s)"
      ]
    },
    {
      "cell_type": "code",
      "metadata": {
        "id": "egSoSsluRF-n",
        "colab_type": "code",
        "colab": {
          "base_uri": "https://localhost:8080/",
          "height": 110
        },
        "outputId": "0ade4294-fdef-4aba-9080-f5f529a5a81b"
      },
      "source": [
        "print('Number of rows with (-1) age value = ' + str(df[df['Age'] == -1].count()[0]))\n",
        "df[df['Age'] == -1]"
      ],
      "execution_count": 7,
      "outputs": [
        {
          "output_type": "stream",
          "text": [
            "Number of rows with (-1) age value = 1\n"
          ],
          "name": "stdout"
        },
        {
          "output_type": "execute_result",
          "data": {
            "text/html": [
              "<div>\n",
              "<style scoped>\n",
              "    .dataframe tbody tr th:only-of-type {\n",
              "        vertical-align: middle;\n",
              "    }\n",
              "\n",
              "    .dataframe tbody tr th {\n",
              "        vertical-align: top;\n",
              "    }\n",
              "\n",
              "    .dataframe thead th {\n",
              "        text-align: right;\n",
              "    }\n",
              "</style>\n",
              "<table border=\"1\" class=\"dataframe\">\n",
              "  <thead>\n",
              "    <tr style=\"text-align: right;\">\n",
              "      <th></th>\n",
              "      <th>PatientId</th>\n",
              "      <th>AppointmentID</th>\n",
              "      <th>Gender</th>\n",
              "      <th>ScheduledDay</th>\n",
              "      <th>AppointmentDay</th>\n",
              "      <th>Age</th>\n",
              "      <th>Neighbourhood</th>\n",
              "      <th>Scholarship</th>\n",
              "      <th>Hipertension</th>\n",
              "      <th>Diabetes</th>\n",
              "      <th>Alcoholism</th>\n",
              "      <th>Handcap</th>\n",
              "      <th>SMS_received</th>\n",
              "      <th>NO_SHOW</th>\n",
              "    </tr>\n",
              "  </thead>\n",
              "  <tbody>\n",
              "    <tr>\n",
              "      <th>99832</th>\n",
              "      <td>4.659432e+14</td>\n",
              "      <td>5775010</td>\n",
              "      <td>F</td>\n",
              "      <td>2016-06-06T08:58:13Z</td>\n",
              "      <td>2016-06-06T00:00:00Z</td>\n",
              "      <td>-1</td>\n",
              "      <td>ROMÃO</td>\n",
              "      <td>0</td>\n",
              "      <td>0</td>\n",
              "      <td>0</td>\n",
              "      <td>0</td>\n",
              "      <td>0</td>\n",
              "      <td>0</td>\n",
              "      <td>No</td>\n",
              "    </tr>\n",
              "  </tbody>\n",
              "</table>\n",
              "</div>"
            ],
            "text/plain": [
              "          PatientId  AppointmentID Gender  ... Handcap SMS_received  NO_SHOW\n",
              "99832  4.659432e+14        5775010      F  ...       0            0       No\n",
              "\n",
              "[1 rows x 14 columns]"
            ]
          },
          "metadata": {
            "tags": []
          },
          "execution_count": 7
        }
      ]
    },
    {
      "cell_type": "markdown",
      "metadata": {
        "id": "uQp7tPAxRF-p",
        "colab_type": "text"
      },
      "source": [
        "### Drop the row with the invalid age value"
      ]
    },
    {
      "cell_type": "code",
      "metadata": {
        "id": "_E8lqHmURF-q",
        "colab_type": "code",
        "colab": {
          "base_uri": "https://localhost:8080/",
          "height": 47
        },
        "outputId": "5d3d9297-7944-4604-a090-bd1d40cf507c"
      },
      "source": [
        "df = df[df['Age'] != -1]\n",
        "df[df['Age'] == -1]"
      ],
      "execution_count": 8,
      "outputs": [
        {
          "output_type": "execute_result",
          "data": {
            "text/html": [
              "<div>\n",
              "<style scoped>\n",
              "    .dataframe tbody tr th:only-of-type {\n",
              "        vertical-align: middle;\n",
              "    }\n",
              "\n",
              "    .dataframe tbody tr th {\n",
              "        vertical-align: top;\n",
              "    }\n",
              "\n",
              "    .dataframe thead th {\n",
              "        text-align: right;\n",
              "    }\n",
              "</style>\n",
              "<table border=\"1\" class=\"dataframe\">\n",
              "  <thead>\n",
              "    <tr style=\"text-align: right;\">\n",
              "      <th></th>\n",
              "      <th>PatientId</th>\n",
              "      <th>AppointmentID</th>\n",
              "      <th>Gender</th>\n",
              "      <th>ScheduledDay</th>\n",
              "      <th>AppointmentDay</th>\n",
              "      <th>Age</th>\n",
              "      <th>Neighbourhood</th>\n",
              "      <th>Scholarship</th>\n",
              "      <th>Hipertension</th>\n",
              "      <th>Diabetes</th>\n",
              "      <th>Alcoholism</th>\n",
              "      <th>Handcap</th>\n",
              "      <th>SMS_received</th>\n",
              "      <th>NO_SHOW</th>\n",
              "    </tr>\n",
              "  </thead>\n",
              "  <tbody>\n",
              "  </tbody>\n",
              "</table>\n",
              "</div>"
            ],
            "text/plain": [
              "Empty DataFrame\n",
              "Columns: [PatientId, AppointmentID, Gender, ScheduledDay, AppointmentDay, Age, Neighbourhood, Scholarship, Hipertension, Diabetes, Alcoholism, Handcap, SMS_received, NO_SHOW]\n",
              "Index: []"
            ]
          },
          "metadata": {
            "tags": []
          },
          "execution_count": 8
        }
      ]
    },
    {
      "cell_type": "markdown",
      "metadata": {
        "id": "3tmje-OVRF-s",
        "colab_type": "text"
      },
      "source": [
        "<a id='eda'></a>\n",
        "## Exploratory Data Analysis\n",
        "\n",
        "\n",
        "###  Q1: What is the proportion of missed/attended appointments over the total number?"
      ]
    },
    {
      "cell_type": "markdown",
      "metadata": {
        "id": "G6EhywUkRF-s",
        "colab_type": "text"
      },
      "source": [
        "#### Find the total number of appointments, missed appointments and attended appointments"
      ]
    },
    {
      "cell_type": "code",
      "metadata": {
        "id": "NC_ew8ECRF-t",
        "colab_type": "code",
        "colab": {
          "base_uri": "https://localhost:8080/",
          "height": 67
        },
        "outputId": "d6939195-e583-45d1-9f77-6199b8e65398"
      },
      "source": [
        "df.NO_SHOW.value_counts()[0]\n",
        "print(f'Total number of appointments = {df.shape[0]}')\n",
        "print(f'Total number of attended appointments = {df.NO_SHOW.value_counts()[0]}')\n",
        "print(f'Total number of missed appointments = {df.NO_SHOW.value_counts()[1]}')"
      ],
      "execution_count": 9,
      "outputs": [
        {
          "output_type": "stream",
          "text": [
            "Total number of appointments = 110526\n",
            "Total number of attended appointments = 88207\n",
            "Total number of missed appointments = 22319\n"
          ],
          "name": "stdout"
        }
      ]
    },
    {
      "cell_type": "markdown",
      "metadata": {
        "id": "ATAusKEiRF-v",
        "colab_type": "text"
      },
      "source": [
        "#### Plot the proportion of missed and attended appointments on the pie chart"
      ]
    },
    {
      "cell_type": "code",
      "metadata": {
        "id": "ErIL_5hHRF-w",
        "colab_type": "code",
        "colab": {
          "base_uri": "https://localhost:8080/",
          "height": 264
        },
        "outputId": "3e1cc785-eef6-4dd9-f581-b9c2942647d5"
      },
      "source": [
        "plt.pie([df.NO_SHOW.value_counts()[0]/df.shape[0]*100, df.NO_SHOW.value_counts()[1]/df.shape[0]*100], \n",
        "        colors=['orange','lightgreen'], labels=['Attended','Missed'],autopct='%1.1f%%' ,startangle=90);\n",
        "\n",
        "plt.title('Percentage of the missed/attended appointments ');"
      ],
      "execution_count": 10,
      "outputs": [
        {
          "output_type": "display_data",
          "data": {
            "image/png": "[encoded data removed]",
            "text/plain": [
              "<Figure size 432x288 with 1 Axes>"
            ]
          },
          "metadata": {
            "tags": []
          }
        }
      ]
    },
    {
      "cell_type": "markdown",
      "metadata": {
        "id": "297kYmYbRF-y",
        "colab_type": "text"
      },
      "source": [
        "### Q1 observations:\n",
        " - There are 22319 appointments out of 110526 are missed (labeled with NO_SHOW = 1), which is equal to 20.2% \n",
        " - There are 88207 appointments out of 110526 are attended (labeled with NO_SHOW = 0), which is equal to 79.2% "
      ]
    },
    {
      "cell_type": "markdown",
      "metadata": {
        "id": "XJD1G-d8RF-z",
        "colab_type": "text"
      },
      "source": [
        "### Q2: How did having the scholarship (Brasilian welfare program) affect the attendance ratio?"
      ]
    },
    {
      "cell_type": "markdown",
      "metadata": {
        "id": "OKrp6sq8RF-0",
        "colab_type": "text"
      },
      "source": [
        "#### To answer this question, we need to group by the NO_SHOW column and count the values according to having a scholarship"
      ]
    },
    {
      "cell_type": "code",
      "metadata": {
        "id": "kqyzySRuRF-0",
        "colab_type": "code",
        "colab": {
          "base_uri": "https://localhost:8080/",
          "height": 118
        },
        "outputId": "092ac971-e95a-4138-9bd7-6e7d10cbf80f"
      },
      "source": [
        "abs_group = df.groupby('NO_SHOW')\n",
        "abs_group['Scholarship'].value_counts()"
      ],
      "execution_count": 11,
      "outputs": [
        {
          "output_type": "execute_result",
          "data": {
            "text/plain": [
              "NO_SHOW  Scholarship\n",
              "No       0              79924\n",
              "         1               8283\n",
              "Yes      0              19741\n",
              "         1               2578\n",
              "Name: Scholarship, dtype: int64"
            ]
          },
          "metadata": {
            "tags": []
          },
          "execution_count": 11
        }
      ]
    },
    {
      "cell_type": "markdown",
      "metadata": {
        "id": "0bMZY73zRF-3",
        "colab_type": "text"
      },
      "source": [
        "#### After that, we need to find the following ratios:\n",
        "* Number of appointments attended and recorded scholarship = 1, over the total number of appointments with recorded scholarship = 1\n",
        "* Number of appointments attended and recorded scholarship = 0, over the total number of appointments with recorded scholarship = 0\n",
        "\n",
        "****Note: scholarship = 0 means the patient has not a scholarship (for Brasilian welfare program)***"
      ]
    },
    {
      "cell_type": "code",
      "metadata": {
        "id": "aUBmI9ZQRF-3",
        "colab_type": "code",
        "colab": {}
      },
      "source": [
        "with_sch_rat = abs_group['Scholarship'].value_counts()['No',1]/(abs_group['Scholarship'].value_counts()['No',1]+abs_group['Scholarship'].value_counts()['Yes',1])*100\n",
        "without_sch_rat = abs_group['Scholarship'].value_counts()['No',0]/(abs_group['Scholarship'].value_counts()['No',0]+abs_group['Scholarship'].value_counts()['Yes',0])*100"
      ],
      "execution_count": 12,
      "outputs": []
    },
    {
      "cell_type": "markdown",
      "metadata": {
        "id": "fgDmI9S8Rr_k",
        "colab_type": "text"
      },
      "source": [
        "#### Bar plot function definition \n"
      ]
    },
    {
      "cell_type": "code",
      "metadata": {
        "id": "DeMDVgeYRrDr",
        "colab_type": "code",
        "colab": {}
      },
      "source": [
        "def plot2Bars(label1,x1,label2,x2,width,color1, color2,title,ylabel):\n",
        "  plt.bar(label1, x1,width= width,color= color1, zorder=2)\n",
        "  plt.bar(label2, x2, width=width,color= color2, zorder=2)\n",
        "  plt.title(title);\n",
        "  plt.ylabel(ylabel);\n",
        "  plt.grid(axis='y', zorder=0);"
      ],
      "execution_count": 13,
      "outputs": []
    },
    {
      "cell_type": "markdown",
      "metadata": {
        "id": "uXBtpM5ARF-6",
        "colab_type": "text"
      },
      "source": [
        "#### Plot the results on the bar chart"
      ]
    },
    {
      "cell_type": "code",
      "metadata": {
        "id": "Mp3Gv45NRF-7",
        "colab_type": "code",
        "colab": {
          "base_uri": "https://localhost:8080/",
          "height": 281
        },
        "outputId": "f47bc3d0-31e8-47c5-bbf4-6e09cb2551c0"
      },
      "source": [
        "plot2Bars(label1='With Scholarship',x1=with_sch_rat,label2='Without Scholarship',x2=without_sch_rat,width=0.4,color1='b',\n",
        "          color2='r',title='Proportion of ATTENDED appointments according to scholarship', ylabel='Attendance percent %')"
      ],
      "execution_count": 14,
      "outputs": [
        {
          "output_type": "display_data",
          "data": {
            "image/png": "[encoded data removed]",
            "text/plain": [
              "<Figure size 432x288 with 1 Axes>"
            ]
          },
          "metadata": {
            "tags": [],
            "needs_background": "light"
          }
        }
      ]
    },
    {
      "cell_type": "markdown",
      "metadata": {
        "id": "eVzapJxZRF-9",
        "colab_type": "text"
      },
      "source": [
        "### Q2 observations:\n",
        "- The attendance proportion for appointments with recorded scholarship = 0 is about 80% of the total appointments with scholarship = 0\n",
        "- The attendance proportion for appointments with recorded scholarship = 1 is about 76% of the total appointments with scholarship = 1"
      ]
    },
    {
      "cell_type": "markdown",
      "metadata": {
        "id": "9xOjF8piRF-9",
        "colab_type": "text"
      },
      "source": [
        "### Q3: How did receiving reminder SMS affect the attendance ratio?"
      ]
    },
    {
      "cell_type": "markdown",
      "metadata": {
        "id": "3dITWjTPRF--",
        "colab_type": "text"
      },
      "source": [
        "#### First, we need to group by the NO_SHOW column and count the values according to receiving SMS"
      ]
    },
    {
      "cell_type": "code",
      "metadata": {
        "id": "fYa_2rZVRF--",
        "colab_type": "code",
        "colab": {
          "base_uri": "https://localhost:8080/",
          "height": 118
        },
        "outputId": "6a979e5d-2c6f-475b-f848-f67584440a97"
      },
      "source": [
        "abs_group = df.groupby('NO_SHOW')\n",
        "abs_group['SMS_received'].value_counts()"
      ],
      "execution_count": 15,
      "outputs": [
        {
          "output_type": "execute_result",
          "data": {
            "text/plain": [
              "NO_SHOW  SMS_received\n",
              "No       0               62509\n",
              "         1               25698\n",
              "Yes      0               12535\n",
              "         1                9784\n",
              "Name: SMS_received, dtype: int64"
            ]
          },
          "metadata": {
            "tags": []
          },
          "execution_count": 15
        }
      ]
    },
    {
      "cell_type": "markdown",
      "metadata": {
        "id": "cVrlh2hoRF_B",
        "colab_type": "text"
      },
      "source": [
        "#### Then we need to find the following ratios:\n",
        "* Number of appointments attended and recorded SMS_received = 1, over the total number of appointments with recorded SMS_received = 1\n",
        "* Number of appointments attended and recorded SMS_received = 0, over the total number of appointments with recorded SMS_received = 0\n",
        "\n",
        "****Note: SMS_received = 0 means the patient did not receive reminder message and vice versa***"
      ]
    },
    {
      "cell_type": "code",
      "metadata": {
        "id": "1-UKuVz9RF_C",
        "colab_type": "code",
        "colab": {}
      },
      "source": [
        "with_sms_rat = abs_group['SMS_received'].value_counts()['No',1]/(abs_group['SMS_received'].value_counts()['No',1]+abs_group['SMS_received'].value_counts()['Yes',1])*100\n",
        "without_sms_rat = abs_group['SMS_received'].value_counts()['No',0]/(abs_group['SMS_received'].value_counts()['No',0]+abs_group['SMS_received'].value_counts()['Yes',0])*100"
      ],
      "execution_count": 16,
      "outputs": []
    },
    {
      "cell_type": "markdown",
      "metadata": {
        "id": "D98sRE7BRF_E",
        "colab_type": "text"
      },
      "source": [
        "#### Plot the results on the bar chart"
      ]
    },
    {
      "cell_type": "code",
      "metadata": {
        "id": "HjhvXBd-RF_E",
        "colab_type": "code",
        "colab": {
          "base_uri": "https://localhost:8080/",
          "height": 281
        },
        "outputId": "24e8b038-4409-4003-85f8-598f7206bbb5"
      },
      "source": [
        "plot2Bars(label1='Received',x1=with_sms_rat,label2='Not Received',x2=without_sms_rat,width=0.4,color1='lightblue',\n",
        "          color2='orange',title='Proportion of ATTENDED appointments according to receiving reminder message', ylabel='Attendance percent %')"
      ],
      "execution_count": 17,
      "outputs": [
        {
          "output_type": "display_data",
          "data": {
            "image/png": "[encoded data removed]",
            "text/plain": [
              "<Figure size 432x288 with 1 Axes>"
            ]
          },
          "metadata": {
            "tags": [],
            "needs_background": "light"
          }
        }
      ]
    },
    {
      "cell_type": "markdown",
      "metadata": {
        "id": "VKx32G9DRF_G",
        "colab_type": "text"
      },
      "source": [
        "### Q3 observations:\n",
        "- The attendance proportion for appointments with NO received SMS is about 83% of the total appointments that did not receive SMS\n",
        "- The attendance proportion for appointments with received SMS is about 72% of the total appointments that received SMS\n",
        "\n"
      ]
    },
    {
      "cell_type": "markdown",
      "metadata": {
        "id": "sGkqP3gNRF_G",
        "colab_type": "text"
      },
      "source": [
        "### Q4: How does age affect the risk of having diabetes?\n",
        "\n",
        "#### To start, we will create a new column that contains the age levels ('Infants','Children','Adults','Elderly')  as follows:\n",
        "Infants: 0 - 1 years old\n",
        "\n",
        "Children: 2 - 17 years old\n",
        "\n",
        "Adults: 18 - 64 years old\n",
        "\n",
        "Elderly: 65 - 120 years old"
      ]
    },
    {
      "cell_type": "code",
      "metadata": {
        "id": "Yx2gwL3YRF_H",
        "colab_type": "code",
        "colab": {
          "base_uri": "https://localhost:8080/",
          "height": 386
        },
        "outputId": "4397ca2a-38aa-4eaf-f241-5d4bfac38b4b"
      },
      "source": [
        "labels = ['Infants','Children','Adults','Elderly']\n",
        "intervals = [-1,1,17,64,120]# -1  is not included, starting from 0 years old\n",
        "df['Age_interval'] = pd.cut(x=df['Age'],bins=intervals,labels=labels)\n",
        "df.info()"
      ],
      "execution_count": 18,
      "outputs": [
        {
          "output_type": "stream",
          "text": [
            "<class 'pandas.core.frame.DataFrame'>\n",
            "Int64Index: 110526 entries, 0 to 110526\n",
            "Data columns (total 15 columns):\n",
            " #   Column          Non-Null Count   Dtype   \n",
            "---  ------          --------------   -----   \n",
            " 0   PatientId       110526 non-null  float64 \n",
            " 1   AppointmentID   110526 non-null  int64   \n",
            " 2   Gender          110526 non-null  object  \n",
            " 3   ScheduledDay    110526 non-null  object  \n",
            " 4   AppointmentDay  110526 non-null  object  \n",
            " 5   Age             110526 non-null  int64   \n",
            " 6   Neighbourhood   110526 non-null  object  \n",
            " 7   Scholarship     110526 non-null  int64   \n",
            " 8   Hipertension    110526 non-null  int64   \n",
            " 9   Diabetes        110526 non-null  int64   \n",
            " 10  Alcoholism      110526 non-null  int64   \n",
            " 11  Handcap         110526 non-null  int64   \n",
            " 12  SMS_received    110526 non-null  int64   \n",
            " 13  NO_SHOW         110526 non-null  object  \n",
            " 14  Age_interval    110526 non-null  category\n",
            "dtypes: category(1), float64(1), int64(8), object(5)\n",
            "memory usage: 12.8+ MB\n"
          ],
          "name": "stdout"
        }
      ]
    },
    {
      "cell_type": "markdown",
      "metadata": {
        "id": "p4BvD7yZRF_I",
        "colab_type": "text"
      },
      "source": [
        "#### Creating new dataset that contains each 'PatientId' apeared only one time\n",
        "****Dropping the duplicated 'PatientId' is important because diabetes is related to the patient not to the appointment, so we should keep the patient only one time*** "
      ]
    },
    {
      "cell_type": "code",
      "metadata": {
        "id": "n-vZ8s05RF_J",
        "colab_type": "code",
        "colab": {
          "base_uri": "https://localhost:8080/",
          "height": 403
        },
        "outputId": "8f78458d-48df-4a5c-be25-aa4711997df8"
      },
      "source": [
        "print(df.duplicated('PatientId').sum()) #number of duplicated patients in the dataset\n",
        "df_unique = df.copy()\n",
        "df_unique.drop_duplicates(subset=('PatientId'),inplace=True)\n",
        "df_unique.info()"
      ],
      "execution_count": 19,
      "outputs": [
        {
          "output_type": "stream",
          "text": [
            "48228\n",
            "<class 'pandas.core.frame.DataFrame'>\n",
            "Int64Index: 62298 entries, 0 to 110524\n",
            "Data columns (total 15 columns):\n",
            " #   Column          Non-Null Count  Dtype   \n",
            "---  ------          --------------  -----   \n",
            " 0   PatientId       62298 non-null  float64 \n",
            " 1   AppointmentID   62298 non-null  int64   \n",
            " 2   Gender          62298 non-null  object  \n",
            " 3   ScheduledDay    62298 non-null  object  \n",
            " 4   AppointmentDay  62298 non-null  object  \n",
            " 5   Age             62298 non-null  int64   \n",
            " 6   Neighbourhood   62298 non-null  object  \n",
            " 7   Scholarship     62298 non-null  int64   \n",
            " 8   Hipertension    62298 non-null  int64   \n",
            " 9   Diabetes        62298 non-null  int64   \n",
            " 10  Alcoholism      62298 non-null  int64   \n",
            " 11  Handcap         62298 non-null  int64   \n",
            " 12  SMS_received    62298 non-null  int64   \n",
            " 13  NO_SHOW         62298 non-null  object  \n",
            " 14  Age_interval    62298 non-null  category\n",
            "dtypes: category(1), float64(1), int64(8), object(5)\n",
            "memory usage: 7.2+ MB\n"
          ],
          "name": "stdout"
        }
      ]
    },
    {
      "cell_type": "markdown",
      "metadata": {
        "id": "XBuT4Po2RF_L",
        "colab_type": "text"
      },
      "source": [
        "#### Grouping by the 'Age_interval' column, and count the diabetics and non-diabetics patients for each level"
      ]
    },
    {
      "cell_type": "code",
      "metadata": {
        "id": "2w0M8ZIXRF_L",
        "colab_type": "code",
        "colab": {
          "base_uri": "https://localhost:8080/",
          "height": 185
        },
        "outputId": "29d37650-3b34-4c05-c4ec-d19fec0d50fa"
      },
      "source": [
        "age_group = df_unique.groupby('Age_interval')\n",
        "age_dia_group = age_group['Diabetes'].value_counts()\n",
        "age_dia_group"
      ],
      "execution_count": 20,
      "outputs": [
        {
          "output_type": "execute_result",
          "data": {
            "text/plain": [
              "Age_interval  Diabetes\n",
              "Infants       0            3515\n",
              "              1               1\n",
              "Children      0           12723\n",
              "              1              22\n",
              "Adults        0           35173\n",
              "              1            2508\n",
              "Elderly       0            6471\n",
              "              1            1885\n",
              "Name: Diabetes, dtype: int64"
            ]
          },
          "metadata": {
            "tags": []
          },
          "execution_count": 20
        }
      ]
    },
    {
      "cell_type": "markdown",
      "metadata": {
        "id": "WEJ_oDRfRF_N",
        "colab_type": "text"
      },
      "source": [
        "#### Finding the proportion of diabetic infants, children, adults, and elderlies over the number of total people at the same level"
      ]
    },
    {
      "cell_type": "code",
      "metadata": {
        "id": "-cOSXlXym3Bo",
        "colab_type": "code",
        "colab": {}
      },
      "source": [
        "def createAgeLevels(levels):\n",
        "  levels_percent_arr = np.array([])\n",
        "  for level in levels:\n",
        "     levels_percent_arr = np.append(levels_percent_arr,np.round(age_dia_group[level,1]/age_dia_group[level].sum()*100,2))\n",
        "  return levels_percent_arr   \n",
        "    "
      ],
      "execution_count": 21,
      "outputs": []
    },
    {
      "cell_type": "code",
      "metadata": {
        "id": "vCrZB9SWRF_N",
        "colab_type": "code",
        "colab": {
          "base_uri": "https://localhost:8080/",
          "height": 151
        },
        "outputId": "217af9e7-8cc7-4cce-c325-03bc14f461fa"
      },
      "source": [
        "levels = ['Infants','Children','Adults','Elderly']\n",
        "levels_percent_arr = createAgeLevels(levels)\n",
        "\n",
        "percent_infants = levels_percent_arr[0]\n",
        "percent_children = levels_percent_arr[1]\n",
        "percent_adults = levels_percent_arr[2]\n",
        "percent_edlerly = levels_percent_arr[3]\n",
        "\n",
        "\n",
        "print('Percentage of Infants with diabetes over total Infants: ' + str(percent_infants)  + '%\\n')\n",
        "print('Percentage of Children with diabetes over total Children: ' + str(percent_children)  + '%\\n')\n",
        "print('Percentage of Adults with diabetes over total Adults: ' + str(percent_adults)  + '%\\n')\n",
        "print('Percentage of Elderlies with diabetes over total Elderlies: ' + str(percent_edlerly)  + '%\\n')\n",
        "\n"
      ],
      "execution_count": 22,
      "outputs": [
        {
          "output_type": "stream",
          "text": [
            "Percentage of Infants with diabetes over total Infants: 0.03%\n",
            "\n",
            "Percentage of Children with diabetes over total Children: 0.17%\n",
            "\n",
            "Percentage of Adults with diabetes over total Adults: 6.66%\n",
            "\n",
            "Percentage of Elderlies with diabetes over total Elderlies: 22.56%\n",
            "\n"
          ],
          "name": "stdout"
        }
      ]
    },
    {
      "cell_type": "markdown",
      "metadata": {
        "id": "ylnYjJ7zRF_Q",
        "colab_type": "text"
      },
      "source": [
        "#### Plot the result on the bar chart"
      ]
    },
    {
      "cell_type": "code",
      "metadata": {
        "id": "nE0hEdMzRF_Q",
        "colab_type": "code",
        "colab": {
          "base_uri": "https://localhost:8080/",
          "height": 281
        },
        "outputId": "7a0ebcbb-c444-4e81-c4dc-67bc9913eba2"
      },
      "source": [
        "plt.bar('Infants',percent_infants, zorder=2)\n",
        "plt.bar('Children',percent_children, zorder=2)\n",
        "plt.bar('Adults',percent_adults, zorder=2)\n",
        "plt.bar('Elderlies',percent_edlerly, zorder=2)\n",
        "\n",
        "plt.title('Proportion of infants, children, adults and elderlies with diabetes')\n",
        "plt.ylabel('percent %')\n",
        "plt.grid(axis='y', zorder=0)"
      ],
      "execution_count": 23,
      "outputs": [
        {
          "output_type": "display_data",
          "data": {
            "image/png": "[encoded data removed]",
            "text/plain": [
              "<Figure size 432x288 with 1 Axes>"
            ]
          },
          "metadata": {
            "tags": [],
            "needs_background": "light"
          }
        }
      ]
    },
    {
      "cell_type": "markdown",
      "metadata": {
        "id": "iEkoLBlxRF_S",
        "colab_type": "text"
      },
      "source": [
        "### Q4 observations:\n",
        "- The elderlies level recorded the highest proportion of diabetics\n",
        "- The infants level recorded the highest proportion of diabetics\n",
        "- The elderlies have a high risk to have diabetes and they are 16% more likely to develop diabetes than adults \n"
      ]
    },
    {
      "cell_type": "markdown",
      "metadata": {
        "id": "b_yLsLLGRF_T",
        "colab_type": "text"
      },
      "source": [
        "### Q5: For the neighborhoods with 100 or more appointments registered, what is/are the neighborhood(s) with the highest/lowest appointments missing proportion?"
      ]
    },
    {
      "cell_type": "markdown",
      "metadata": {
        "id": "WVpziSQCRF_T",
        "colab_type": "text"
      },
      "source": [
        "#### First, we need to group by the 'Neighbourhood' column, then count each neighborhood's records and choose ones with more than or equal to 100"
      ]
    },
    {
      "cell_type": "code",
      "metadata": {
        "id": "ls4FsLnjRF_T",
        "colab_type": "code",
        "colab": {}
      },
      "source": [
        "df_neigh = df.groupby('Neighbourhood').count()\n",
        "df_neigh = df_neigh[df_neigh.Age >=100]\n"
      ],
      "execution_count": 24,
      "outputs": []
    },
    {
      "cell_type": "markdown",
      "metadata": {
        "id": "Ax6Gh9MnRF_V",
        "colab_type": "text"
      },
      "source": [
        "#### Create a numpy array contains the neighborhoods' names"
      ]
    },
    {
      "cell_type": "code",
      "metadata": {
        "id": "r_jQ3BKeRF_V",
        "colab_type": "code",
        "colab": {}
      },
      "source": [
        "neighbourhoods_names = df_neigh.index"
      ],
      "execution_count": 25,
      "outputs": []
    },
    {
      "cell_type": "markdown",
      "metadata": {
        "id": "c6aIS5rhRF_Z",
        "colab_type": "text"
      },
      "source": [
        "#### Count the number of missing and attendance times for each neighborhood \n",
        "****abs_group is the original dataset (df) grouped by the 'NO_SHOW' column' which created in Q1 section***"
      ]
    },
    {
      "cell_type": "code",
      "metadata": {
        "id": "MStPoXZIRF_Z",
        "colab_type": "code",
        "colab": {
          "base_uri": "https://localhost:8080/",
          "height": 235
        },
        "outputId": "bf23668c-96c9-4524-f172-e2264593e4ad"
      },
      "source": [
        "neighbourhoods_count = abs_group['Neighbourhood'].value_counts()\n",
        "neighbourhoods_count"
      ],
      "execution_count": 26,
      "outputs": [
        {
          "output_type": "execute_result",
          "data": {
            "text/plain": [
              "NO_SHOW  Neighbourhood              \n",
              "No       JARDIM CAMBURI                 6252\n",
              "         MARIA ORTIZ                    4586\n",
              "         RESISTÊNCIA                    3525\n",
              "         JARDIM DA PENHA                3246\n",
              "         SANTA MARTHA                   2635\n",
              "                                        ... \n",
              "Yes      PONTAL DE CAMBURI                12\n",
              "         ILHA DO BOI                       3\n",
              "         ILHA DO FRADE                     2\n",
              "         ILHAS OCEÂNICAS DE TRINDADE       2\n",
              "         AEROPORTO                         1\n",
              "Name: Neighbourhood, Length: 160, dtype: int64"
            ]
          },
          "metadata": {
            "tags": []
          },
          "execution_count": 26
        }
      ]
    },
    {
      "cell_type": "markdown",
      "metadata": {
        "id": "Ql0GvGeuRF_c",
        "colab_type": "text"
      },
      "source": [
        "#### Finding the number of missing times over the total appointments recorded for the neighborhood and saving it into a numpy array"
      ]
    },
    {
      "cell_type": "code",
      "metadata": {
        "id": "5TlVm3ywRF_c",
        "colab_type": "code",
        "colab": {}
      },
      "source": [
        "missed_percentages_arr = np.array([])\n",
        "\n",
        "for name in neighbourhoods_names:\n",
        "           missing_ratio = neighbourhoods_count['Yes',name]/df[df['Neighbourhood'] == name].count()[0]*100\n",
        "           missed_percentages_arr =  np.append(missed_percentages_arr,missing_ratio)\n",
        "          "
      ],
      "execution_count": 27,
      "outputs": []
    },
    {
      "cell_type": "markdown",
      "metadata": {
        "id": "7iAc2xBqRF_f",
        "colab_type": "text"
      },
      "source": [
        "#### Printing the number of neighborhoods included in the calculation (has more than or equal to 100 appointments), the neighborhood with the highest missing proportion, and the neighborhood with the lowest missing proportion\n"
      ]
    },
    {
      "cell_type": "code",
      "metadata": {
        "id": "vL4c3NGpRF_f",
        "colab_type": "code",
        "colab": {
          "base_uri": "https://localhost:8080/",
          "height": 67
        },
        "outputId": "ed4f114f-d975-44a2-f379-180281e4ff33"
      },
      "source": [
        "print(f'Number of Neighbourhoods included: {missed_percentages_arr.size} ')\n",
        "print(f'The Neighborhood with the highest missing percentage: \"{neighbourhoods_names[np.argmax(missed_percentages_arr)]}\" ')\n",
        "print(f'The Neighborhood with the lowest missing percentage: \"{neighbourhoods_names[np.argmin(missed_percentages_arr)]}\" ')"
      ],
      "execution_count": 28,
      "outputs": [
        {
          "output_type": "stream",
          "text": [
            "Number of Neighbourhoods included: 74 \n",
            "The Neighborhood with the highest missing percentage: \"SANTOS DUMONT\" \n",
            "The Neighborhood with the lowest missing percentage: \"MÁRIO CYPRESTE\" \n"
          ],
          "name": "stdout"
        }
      ]
    },
    {
      "cell_type": "markdown",
      "metadata": {
        "id": "8SoWSiGhRF_h",
        "colab_type": "text"
      },
      "source": [
        "#### Plot the distribution of neighborhoods no-show percentages"
      ]
    },
    {
      "cell_type": "code",
      "metadata": {
        "id": "pOEfKHToRF_i",
        "colab_type": "code",
        "colab": {
          "base_uri": "https://localhost:8080/",
          "height": 279
        },
        "outputId": "0d61f7fa-995c-4329-e886-2f3cff840a3f"
      },
      "source": [
        "plt.grid(axis='y')\n",
        "n, bins, patches = plt.hist(missed_percentages_arr,bins=7,edgecolor='white', zorder=2)\n",
        "\n",
        "#plot the probability density function as dashed line (Bonus+)\n",
        "from scipy.stats import norm \n",
        "mean = missed_percentages_arr.mean()\n",
        "std = missed_percentages_arr.std()\n",
        "line = norm.pdf(bins,mean,std)\n",
        "\n",
        "plt.plot(bins,line*150,'o--')\n",
        "plt.ylabel('Frequency')\n",
        "plt.xlabel('No-show percentage');"
      ],
      "execution_count": 29,
      "outputs": [
        {
          "output_type": "display_data",
          "data": {
            "image/png": "[encoded data removed]",
            "text/plain": [
              "<Figure size 432x288 with 1 Axes>"
            ]
          },
          "metadata": {
            "tags": [],
            "needs_background": "light"
          }
        }
      ]
    },
    {
      "cell_type": "markdown",
      "metadata": {
        "id": "UpCiUKu_fsOS",
        "colab_type": "text"
      },
      "source": [
        "### Q5 observations:¶\n",
        "- The highest no-show percentage appeared with \"SANTOS DUMONT\" neighborhood\n",
        "- The lowest no-show percentage appeared with \"MÁRIO CYPRESTE\" neighborhood\n",
        "- The number of neighborhoods with more than or equal to 100 appointments is 75\n",
        "- The neighborhoods' no-show percentages are almost normally distributed\n",
        "\n"
      ]
    },
    {
      "cell_type": "markdown",
      "metadata": {
        "id": "YJmUY28pf_PN",
        "colab_type": "text"
      },
      "source": [
        "## Presenting the correlation between the features using the heatmap "
      ]
    },
    {
      "cell_type": "code",
      "metadata": {
        "id": "zmBC9oL5V3Pn",
        "colab_type": "code",
        "colab": {
          "base_uri": "https://localhost:8080/",
          "height": 433
        },
        "outputId": "609dc7a4-3e8f-4b06-a9dd-a332934c3922"
      },
      "source": [
        "df_corr = df[['Age', 'Neighbourhood', 'Scholarship', 'Hipertension',\n",
        "              'Diabetes', 'Alcoholism', 'Handcap', 'SMS_received']]\n",
        "\n",
        "corr_matrix = df_corr.corr()\n",
        "\n",
        "plt.figure(figsize=(12, 7))\n",
        "sn.heatmap(corr_matrix, annot=True,cmap=\"Greens\")\n",
        "plt.show();"
      ],
      "execution_count": 30,
      "outputs": [
        {
          "output_type": "display_data",
          "data": {
            "image/png": "[encoded data removed]",
            "text/plain": [
              "<Figure size 864x504 with 2 Axes>"
            ]
          },
          "metadata": {
            "tags": [],
            "needs_background": "light"
          }
        }
      ]
    },
    {
      "cell_type": "markdown",
      "metadata": {
        "id": "RsDh9fGVRF_l",
        "colab_type": "text"
      },
      "source": [
        "<a id='conclusions'></a>\n",
        "## Conclusions\n",
        "\n",
        "To sum up, the investigation of this dataset resulted in the following findings (only imply on the population described by the dataset):\n",
        "- The no-show (missing) proportion is 20.2%.\n",
        "- The elderly (65+ yrs) are more likely to have diabetes than infants, adults, and children.\n",
        "- Whether the patient joined the Brasilian welfare program or not, no assumption can be made about his/her no-show possibility.\n",
        "- Sending reminder messages to patients does not seem to be an active solution for no-show cases.\n",
        "- Each neighborhood has its no-show possibility, with range the [14.5, 28.9] % approximately.\n",
        "\n",
        "Besides, there was some difficulty and limitations due to the dataset nature like:\n",
        "- Most of the features are on the discrete form, with only 1 or 0 values.\n",
        "- During wrangling, there was a patient with age = -1, which is unacceptable.\n",
        "- Some additional features are good to report, such as the annual income and marital status.\n",
        "\n",
        "However, the dataset is tidy and well-cleaned and it has not null values.  \n"
      ]
    },
    {
      "cell_type": "markdown",
      "metadata": {
        "id": "2TN-w94MRF_l",
        "colab_type": "text"
      },
      "source": [
        "## Resources and helping sites:\n",
        "\n",
        " - https://en.wikipedia.org/wiki/Bolsa_Fam%C3%ADlia\n",
        " - https://stackoverflow.com/\n",
        " - https://pandas.pydata.org/pandas-docs/stable/index.html\n",
        " - https://matplotlib.org/\n",
        " - https://www.kite.com/\n"
      ]
    }
  ]
}